{
  "nbformat": 4,
  "nbformat_minor": 0,
  "metadata": {
    "colab": {
      "name": "DONUT for DocVQA.ipynb",
      "provenance": [],
      "collapsed_sections": []
    },
    "kernelspec": {
      "name": "python3",
      "display_name": "Python 3"
    },
    "language_info": {
      "name": "python"
    },
    "accelerator": "GPU",
    "gpuClass": "standard"
  },
  "cells": [
    {
      "cell_type": "markdown",
      "source": [
        "# **Chetan Khadke**\n",
        "\n",
        "Linkedin: https://www.linkedin.com/in/khadke-chetan/\n"
      ],
      "metadata": {
        "id": "lqxa7R6HqvgT"
      }
    },
    {
      "cell_type": "markdown",
      "source": [
        "## Set-up environment\n",
        "\n",
        "Install 🤗 Transformers, datasets and SentencePiece.\n",
        "\n",
        "PS: Please enable the GPU runtime. "
      ],
      "metadata": {
        "id": "936AEu38RIGk"
      }
    },
    {
      "cell_type": "code",
      "source": [
        "!nvidia-smi"
      ],
      "metadata": {
        "colab": {
          "base_uri": "https://localhost:8080/"
        },
        "id": "tLfutQ8Qn00w",
        "outputId": "2a05aa92-bd48-4a43-f7de-62f3c942faa8"
      },
      "execution_count": 1,
      "outputs": [
        {
          "output_type": "stream",
          "name": "stdout",
          "text": [
            "Sun Aug 28 08:24:52 2022       \n",
            "+-----------------------------------------------------------------------------+\n",
            "| NVIDIA-SMI 460.32.03    Driver Version: 460.32.03    CUDA Version: 11.2     |\n",
            "|-------------------------------+----------------------+----------------------+\n",
            "| GPU  Name        Persistence-M| Bus-Id        Disp.A | Volatile Uncorr. ECC |\n",
            "| Fan  Temp  Perf  Pwr:Usage/Cap|         Memory-Usage | GPU-Util  Compute M. |\n",
            "|                               |                      |               MIG M. |\n",
            "|===============================+======================+======================|\n",
            "|   0  Tesla P100-PCIE...  Off  | 00000000:00:04.0 Off |                    0 |\n",
            "| N/A   42C    P0    26W / 250W |      0MiB / 16280MiB |      0%      Default |\n",
            "|                               |                      |                  N/A |\n",
            "+-------------------------------+----------------------+----------------------+\n",
            "                                                                               \n",
            "+-----------------------------------------------------------------------------+\n",
            "| Processes:                                                                  |\n",
            "|  GPU   GI   CI        PID   Type   Process name                  GPU Memory |\n",
            "|        ID   ID                                                   Usage      |\n",
            "|=============================================================================|\n",
            "|  No running processes found                                                 |\n",
            "+-----------------------------------------------------------------------------+\n"
          ]
        }
      ]
    },
    {
      "cell_type": "code",
      "execution_count": 2,
      "metadata": {
        "id": "RjTQkhuwRF6Z"
      },
      "outputs": [],
      "source": [
        "!pip install -q git+https://github.com/huggingface/transformers.git"
      ]
    },
    {
      "cell_type": "code",
      "source": [
        "!pip install -q datasets sentencepiece"
      ],
      "metadata": {
        "id": "eVEgMcH4RWqe"
      },
      "execution_count": null,
      "outputs": []
    },
    {
      "cell_type": "markdown",
      "metadata": {
        "id": "dah5EqGaf8au"
      },
      "source": [
        "## Load image"
      ]
    },
    {
      "cell_type": "code",
      "execution_count": 4,
      "metadata": {
        "id": "VjOpLJYuf1Yx"
      },
      "outputs": [],
      "source": [
        "# Imports PIL module \n",
        "import urllib.request\n",
        "from PIL import Image\n",
        "  \n",
        "urllib.request.urlretrieve(\n",
        "  'https://paysliper.com/assets/templates/image/list1.jpg',\n",
        "   \"sample.png\")\n",
        "  \n",
        "image = Image.open(\"sample.png\")\n",
        "  "
      ]
    },
    {
      "cell_type": "markdown",
      "source": [
        "## Load model and processor"
      ],
      "metadata": {
        "id": "hL1LKdBNR9yH"
      }
    },
    {
      "cell_type": "code",
      "source": [
        "from transformers import DonutProcessor, VisionEncoderDecoderModel\n",
        "\n",
        "processor = DonutProcessor.from_pretrained(\"naver-clova-ix/donut-base-finetuned-docvqa\")\n",
        "model = VisionEncoderDecoderModel.from_pretrained(\"naver-clova-ix/donut-base-finetuned-docvqa\")"
      ],
      "metadata": {
        "id": "pOmnuWOiRhdV"
      },
      "execution_count": null,
      "outputs": []
    },
    {
      "cell_type": "markdown",
      "source": [
        "## Prepare using processor\n",
        "\n",
        "Prepare the image for the model using **`DonutProcessor`**."
      ],
      "metadata": {
        "id": "U5ny4NN58Uq-"
      }
    },
    {
      "cell_type": "code",
      "source": [
        "pixel_values = processor(image, return_tensors=\"pt\").pixel_values\n",
        "print(pixel_values.shape)"
      ],
      "metadata": {
        "colab": {
          "base_uri": "https://localhost:8080/"
        },
        "id": "uZ6AvLnJ8wLI",
        "outputId": "ee14e337-68fa-42b4-edfe-21cc37b8c79c"
      },
      "execution_count": 9,
      "outputs": [
        {
          "output_type": "stream",
          "name": "stdout",
          "text": [
            "torch.Size([1, 3, 2560, 1920])\n"
          ]
        }
      ]
    },
    {
      "cell_type": "markdown",
      "source": [
        "## Prediction\n",
        "Generate the answer to the question."
      ],
      "metadata": {
        "id": "-cMUZg6C7tXa"
      }
    },
    {
      "cell_type": "code",
      "source": [
        "import torch\n",
        "import re\n",
        "device = \"cuda\" if torch.cuda.is_available() else \"cpu\"\n",
        "model.to(device)\n",
        "questions = [\"what is the employee name?\",\n",
        "            \"How many working days?\",\n",
        "            \"What is the final net amount?\", \n",
        "            \"How many total deduction?\",\n",
        "            ]\n",
        "\n",
        "task_prompt = \"<s_docvqa><s_question>{user_input}</s_question><s_answer>\"\n",
        "for each in questions:\n",
        "    question = each\n",
        "    prompt = task_prompt.replace(\"{user_input}\", question)\n",
        "    decoder_input_ids = processor.tokenizer(prompt, add_special_tokens=False, return_tensors=\"pt\")[\"input_ids\"]\n",
        "    outputs = model.generate(pixel_values.to(device),\n",
        "                                decoder_input_ids=decoder_input_ids.to(device),\n",
        "                                max_length=model.decoder.config.max_position_embeddings,\n",
        "                                early_stopping=True,\n",
        "                                pad_token_id=processor.tokenizer.pad_token_id,\n",
        "                                eos_token_id=processor.tokenizer.eos_token_id,\n",
        "                                use_cache=True,\n",
        "                                num_beams=1,\n",
        "                                bad_words_ids=[[processor.tokenizer.unk_token_id]],\n",
        "                                return_dict_in_generate=True,\n",
        "                                output_scores=True)\n",
        "    seq = processor.batch_decode(outputs.sequences)[0]\n",
        "    print(processor.token2json(seq))"
      ],
      "metadata": {
        "id": "4NDO9JJfFpIe",
        "colab": {
          "base_uri": "https://localhost:8080/"
        },
        "outputId": "8545c8cc-eb79-4072-c819-71f39b0e26c7"
      },
      "execution_count": 13,
      "outputs": [
        {
          "output_type": "stream",
          "name": "stdout",
          "text": [
            "{'question': 'what is the employee name?', 'answer': 'sally harley'}\n",
            "{'question': 'How many working days?', 'answer': '26'}\n",
            "{'question': 'What is the final net amount?', 'answer': '9500'}\n",
            "{'question': 'How many total deduction?', 'answer': '2100'}\n"
          ]
        }
      ]
    },
    {
      "cell_type": "code",
      "source": [],
      "metadata": {
        "id": "LyXS9kZFmq1h"
      },
      "execution_count": null,
      "outputs": []
    }
  ]
}