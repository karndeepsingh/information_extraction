{
  "nbformat": 4,
  "nbformat_minor": 0,
  "metadata": {
    "colab": {
      "provenance": [],
      "gpuType": "T4",
      "machine_shape": "hm",
      "include_colab_link": true
    },
    "kernelspec": {
      "name": "python3",
      "display_name": "Python 3"
    },
    "language_info": {
      "name": "python"
    },
    "accelerator": "GPU"
  },
  "cells": [
    {
      "cell_type": "markdown",
      "metadata": {
        "id": "view-in-github",
        "colab_type": "text"
      },
      "source": [
        "<a href=\"https://colab.research.google.com/github/khadkechetan/information_extraction/blob/main/LLM/Information_extraction_using_LLM.ipynb\" target=\"_parent\"><img src=\"https://colab.research.google.com/assets/colab-badge.svg\" alt=\"Open In Colab\"/></a>"
      ]
    },
    {
      "cell_type": "markdown",
      "source": [
        "# 1. Install all the packages"
      ],
      "metadata": {
        "id": "-1CEd3V0AC99"
      }
    },
    {
      "cell_type": "code",
      "source": [
        "!pip install -q transformers einops accelerate langchain bitsandbytes sentence_transformers llama-index pypdf python-dotenv"
      ],
      "metadata": {
        "id": "7jHTUCFK6AbQ"
      },
      "execution_count": null,
      "outputs": []
    },
    {
      "cell_type": "markdown",
      "source": [
        "# 2. Packages imports"
      ],
      "metadata": {
        "id": "zdlHXfkqAHYv"
      }
    },
    {
      "cell_type": "code",
      "source": [
        "import logging\n",
        "import sys\n",
        "import torch\n",
        "from llama_index import VectorStoreIndex, SimpleDirectoryReader, ServiceContext\n",
        "from llama_index.llms import HuggingFaceLLM\n",
        "from langchain.embeddings.huggingface import HuggingFaceEmbeddings\n",
        "from llama_index import LangchainEmbedding, ServiceContext\n",
        "from llama_index.prompts.prompts import SimpleInputPrompt\n",
        "\n",
        "logging.basicConfig(stream=sys.stdout, level=logging.INFO)\n",
        "logging.getLogger().addHandler(logging.StreamHandler(stream=sys.stdout))"
      ],
      "metadata": {
        "id": "IndjMsJd6Al5"
      },
      "execution_count": null,
      "outputs": []
    },
    {
      "cell_type": "markdown",
      "source": [
        "# 3. Login to HuggingFace cli"
      ],
      "metadata": {
        "id": "Q282pVJHALKW"
      }
    },
    {
      "cell_type": "code",
      "source": [
        "!git config --global credential.helper store\n",
        "!huggingface-cli login"
      ],
      "metadata": {
        "id": "dXzUZVOD_8uy"
      },
      "execution_count": null,
      "outputs": []
    },
    {
      "cell_type": "markdown",
      "source": [
        "# 4. Load the Dataset"
      ],
      "metadata": {
        "id": "KWJU26sSASyl"
      }
    },
    {
      "cell_type": "code",
      "source": [
        "data_location = '/content/data' #@param\n",
        "documents = SimpleDirectoryReader(data_location).load_data()"
      ],
      "metadata": {
        "id": "9DA_-Bil6AoV"
      },
      "execution_count": null,
      "outputs": []
    },
    {
      "cell_type": "code",
      "source": [
        "documents[2]"
      ],
      "metadata": {
        "id": "-UoNG6F0RmCS"
      },
      "execution_count": null,
      "outputs": []
    },
    {
      "cell_type": "code",
      "source": [
        "system_prompt = \"You are a data extractor. Extract the data from given document\"\n",
        "# This will wrap the default prompts that are internal to llama-index\n",
        "query_wrapper_prompt = SimpleInputPrompt(\"<|USER|>{query_str}<|ASSISTANT|>\")"
      ],
      "metadata": {
        "id": "o9dYI6Vl6Aqt"
      },
      "execution_count": null,
      "outputs": []
    },
    {
      "cell_type": "markdown",
      "source": [
        "# 5. Load the Embeddings"
      ],
      "metadata": {
        "id": "nnGSraB1BzSe"
      }
    },
    {
      "cell_type": "code",
      "source": [
        "# hyperparameters\n",
        "context_window = 4096 #@param\n",
        "temperature = 0.0 #@param\n",
        "model_name = 'meta-llama/Llama-2-7b-chat-hf' #@param"
      ],
      "metadata": {
        "id": "RVJGIhjUBP9j"
      },
      "execution_count": null,
      "outputs": []
    },
    {
      "cell_type": "code",
      "source": [
        "llm = HuggingFaceLLM(\n",
        "    context_window=context_window,\n",
        "    max_new_tokens=256,\n",
        "    generate_kwargs={\"temperature\": temperature, \"do_sample\": False},\n",
        "    system_prompt=system_prompt,\n",
        "    query_wrapper_prompt=query_wrapper_prompt,\n",
        "    tokenizer_name=model_name,\n",
        "    model_name=model_name,\n",
        "    device_map=\"auto\",\n",
        "    # uncomment this if using CUDA to reduce memory usage\n",
        "    model_kwargs={\"torch_dtype\": torch.float16 , \"load_in_8bit\":True, \"use_auth_token\":True},\n",
        "\n",
        ")"
      ],
      "metadata": {
        "id": "02qYFvm76Awz"
      },
      "execution_count": null,
      "outputs": []
    },
    {
      "cell_type": "code",
      "source": [
        "embed_model = LangchainEmbedding(\n",
        "  HuggingFaceEmbeddings(model_name=\"sentence-transformers/all-mpnet-base-v2\")\n",
        ")"
      ],
      "metadata": {
        "id": "5_yWpqlj7PeQ"
      },
      "execution_count": null,
      "outputs": []
    },
    {
      "cell_type": "code",
      "source": [
        "service_context = ServiceContext.from_defaults(\n",
        "    chunk_size=1024,\n",
        "    llm=llm,\n",
        "    embed_model=embed_model\n",
        ")"
      ],
      "metadata": {
        "id": "cNNEEINT7Pg3"
      },
      "execution_count": null,
      "outputs": []
    },
    {
      "cell_type": "markdown",
      "source": [
        "#6. Index the datastore"
      ],
      "metadata": {
        "id": "I7RmTOa5B4Yh"
      }
    },
    {
      "cell_type": "code",
      "source": [
        "index = VectorStoreIndex.from_documents(documents, service_context=service_context)"
      ],
      "metadata": {
        "id": "BB35nhWO7Pj0"
      },
      "execution_count": null,
      "outputs": []
    },
    {
      "cell_type": "code",
      "source": [
        "user_query = 'What is Date issued in the document?'  #@param"
      ],
      "metadata": {
        "id": "L8wiTIEOA4Ke"
      },
      "execution_count": null,
      "outputs": []
    },
    {
      "cell_type": "code",
      "source": [
        "query_engine = index.as_query_engine()\n",
        "response = query_engine.query(\"What is Date issued in the document?\")"
      ],
      "metadata": {
        "id": "tnMF-LQX7PmH"
      },
      "execution_count": null,
      "outputs": []
    },
    {
      "cell_type": "code",
      "source": [
        "print(response)"
      ],
      "metadata": {
        "id": "SeWqmRYl7Pol",
        "colab": {
          "base_uri": "https://localhost:8080/"
        },
        "outputId": "4d9a0179-19f4-4e14-f7d8-6b0617b32587"
      },
      "execution_count": null,
      "outputs": [
        {
          "output_type": "stream",
          "name": "stdout",
          "text": [
            "The purpose of the loan in the document is to provide financing for the purchase of a property located at 456 Somewhere Ave., Anytown, ST 12345. The loan amount is $162,000, and the loan term is 30 years. The interest rate is 4.174%, and the total amount of interest paid over the loan term is $69,460. The loan also includes an escrow account for property taxes and homeowner's insurance.\n"
          ]
        }
      ]
    }
  ]
}